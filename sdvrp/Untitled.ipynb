{
 "cells": [
  {
   "cell_type": "code",
   "execution_count": 10,
   "id": "895c44ec",
   "metadata": {},
   "outputs": [],
   "source": [
    "import localsolver\n",
    "import sys\n",
    "import math"
   ]
  },
  {
   "cell_type": "code",
   "execution_count": 11,
   "id": "56704556",
   "metadata": {},
   "outputs": [],
   "source": [
    "def read_elem(filename):\n",
    "    with open(filename) as f:\n",
    "        return [str(elem) for elem in f.read().split()]"
   ]
  },
  {
   "cell_type": "code",
   "execution_count": 12,
   "id": "5c5911c7",
   "metadata": {},
   "outputs": [],
   "source": [
    "def read_input_sdvrp(filename):\n",
    "    file_it = iter(read_elem(filename))\n",
    "\n",
    "    nb_customers = int(next(file_it))\n",
    "    capacity = int(next(file_it))\n",
    "\n",
    "    demands = [None] * nb_customers\n",
    "    for i in range(nb_customers):\n",
    "        demands[i] = int(next(file_it))\n",
    "\n",
    "    # Extracting the coordinates of the depot and the customers\n",
    "    customers_x = [None] * nb_customers\n",
    "    customers_y = [None] * nb_customers\n",
    "    depot_x = float(next(file_it))\n",
    "    depot_y = float(next(file_it))\n",
    "    for i in range(nb_customers):\n",
    "        customers_x[i] = float(next(file_it))\n",
    "        customers_y[i] = float(next(file_it))\n",
    "\n",
    "    distance_matrix = compute_distance_matrix(customers_x, customers_y)\n",
    "    distance_depots = compute_distance_depots(depot_x, depot_y, customers_x, customers_y)\n",
    "    return nb_customers, capacity, distance_matrix, distance_depots, demands"
   ]
  },
  {
   "cell_type": "code",
   "execution_count": 27,
   "id": "30e45066",
   "metadata": {},
   "outputs": [],
   "source": [
    "data = read_input_sdvrp(r'./instances/S51D4.sd')"
   ]
  },
  {
   "cell_type": "code",
   "execution_count": 33,
   "id": "462b61cb",
   "metadata": {},
   "outputs": [
    {
     "data": {
      "text/plain": [
       "[14,\n",
       " 21,\n",
       " 33,\n",
       " 17,\n",
       " 14,\n",
       " 11,\n",
       " 26,\n",
       " 22,\n",
       " 23,\n",
       " 28,\n",
       " 12,\n",
       " 8,\n",
       " 29,\n",
       " 18,\n",
       " 25,\n",
       " 22,\n",
       " 17,\n",
       " 15,\n",
       " 32,\n",
       " 32,\n",
       " 32,\n",
       " 21,\n",
       " 22,\n",
       " 25,\n",
       " 23,\n",
       " 28,\n",
       " 8,\n",
       " 30,\n",
       " 29,\n",
       " 31,\n",
       " 30,\n",
       " 10,\n",
       " 34,\n",
       " 32,\n",
       " 39,\n",
       " 44,\n",
       " 18,\n",
       " 16,\n",
       " 38,\n",
       " 42,\n",
       " 30,\n",
       " 31,\n",
       " 35,\n",
       " 25,\n",
       " 31,\n",
       " 2,\n",
       " 9,\n",
       " 16,\n",
       " 22,\n",
       " 26]"
      ]
     },
     "execution_count": 33,
     "metadata": {},
     "output_type": "execute_result"
    }
   ],
   "source": [
    "data[3]"
   ]
  },
  {
   "cell_type": "code",
   "execution_count": 26,
   "id": "2754d4ac",
   "metadata": {},
   "outputs": [
    {
     "data": {
      "text/plain": [
       "50"
      ]
     },
     "execution_count": 26,
     "metadata": {},
     "output_type": "execute_result"
    }
   ],
   "source": [
    "len(data[2])"
   ]
  },
  {
   "cell_type": "code",
   "execution_count": 17,
   "id": "1e576580",
   "metadata": {},
   "outputs": [
    {
     "data": {
      "text/plain": [
       "160"
      ]
     },
     "execution_count": 17,
     "metadata": {},
     "output_type": "execute_result"
    }
   ],
   "source": [
    "data[1]"
   ]
  },
  {
   "cell_type": "code",
   "execution_count": null,
   "id": "26af399b",
   "metadata": {},
   "outputs": [],
   "source": []
  },
  {
   "cell_type": "code",
   "execution_count": null,
   "id": "3dde861f",
   "metadata": {},
   "outputs": [],
   "source": []
  },
  {
   "cell_type": "code",
   "execution_count": 9,
   "id": "77f6c1aa",
   "metadata": {},
   "outputs": [
    {
     "ename": "LSError",
     "evalue": "ERROR [function ls_create_solver]: Cannot open file [/opt/localsolver_12_0/license.dat].",
     "output_type": "error",
     "traceback": [
      "\u001b[0;31m---------------------------------------------------------------------------\u001b[0m",
      "\u001b[0;31mLSError\u001b[0m                                   Traceback (most recent call last)",
      "\u001b[0;32m/tmp/ipykernel_965077/2458577958.py\u001b[0m in \u001b[0;36m<module>\u001b[0;34m\u001b[0m\n\u001b[0;32m----> 1\u001b[0;31m \u001b[0;32mwith\u001b[0m \u001b[0mlocalsolver\u001b[0m\u001b[0;34m.\u001b[0m\u001b[0mLocalSolver\u001b[0m\u001b[0;34m(\u001b[0m\u001b[0;34m)\u001b[0m \u001b[0;32mas\u001b[0m \u001b[0mls\u001b[0m\u001b[0;34m:\u001b[0m\u001b[0;34m\u001b[0m\u001b[0;34m\u001b[0m\u001b[0m\n\u001b[0m\u001b[1;32m      2\u001b[0m     \u001b[0mmodel\u001b[0m \u001b[0;34m=\u001b[0m \u001b[0mls\u001b[0m\u001b[0;34m.\u001b[0m\u001b[0mmodel\u001b[0m\u001b[0;34m\u001b[0m\u001b[0;34m\u001b[0m\u001b[0m\n",
      "\u001b[0;32m~/anaconda3/envs/pytorch/lib/python3.7/site-packages/localsolver/__init__.py\u001b[0m in \u001b[0;36m__init__\u001b[0;34m(self, solver_ptr, handle_modeler_ptr, solver_modeler_ptr)\u001b[0m\n\u001b[1;32m   3311\u001b[0m \u001b[0;34m\u001b[0m\u001b[0m\n\u001b[1;32m   3312\u001b[0m         \u001b[0;32mif\u001b[0m \u001b[0msolver_ptr\u001b[0m \u001b[0;32mis\u001b[0m \u001b[0;32mNone\u001b[0m\u001b[0;34m:\u001b[0m\u001b[0;34m\u001b[0m\u001b[0;34m\u001b[0m\u001b[0m\n\u001b[0;32m-> 3313\u001b[0;31m             \u001b[0mself\u001b[0m\u001b[0;34m.\u001b[0m\u001b[0m_solver_ptr\u001b[0m \u001b[0;34m=\u001b[0m \u001b[0m_ls_create_solver\u001b[0m\u001b[0;34m(\u001b[0m\u001b[0;34m)\u001b[0m\u001b[0;34m\u001b[0m\u001b[0;34m\u001b[0m\u001b[0m\n\u001b[0m\u001b[1;32m   3314\u001b[0m         \u001b[0;32melse\u001b[0m\u001b[0;34m:\u001b[0m\u001b[0;34m\u001b[0m\u001b[0;34m\u001b[0m\u001b[0m\n\u001b[1;32m   3315\u001b[0m             \u001b[0mself\u001b[0m\u001b[0;34m.\u001b[0m\u001b[0m_solver_ptr\u001b[0m \u001b[0;34m=\u001b[0m \u001b[0msolver_ptr\u001b[0m\u001b[0;34m\u001b[0m\u001b[0;34m\u001b[0m\u001b[0m\n",
      "\u001b[0;32m~/anaconda3/envs/pytorch/lib/python3.7/site-packages/localsolver/__init__.py\u001b[0m in \u001b[0;36m_ls_check_errors\u001b[0;34m(result, _1, _2)\u001b[0m\n\u001b[1;32m    396\u001b[0m         \u001b[0;31m# false positive (solved with the last versions of pylint)\u001b[0m\u001b[0;34m\u001b[0m\u001b[0;34m\u001b[0m\u001b[0;34m\u001b[0m\u001b[0m\n\u001b[1;32m    397\u001b[0m         \u001b[0;31m#pylint: disable=raising-bad-type\u001b[0m\u001b[0;34m\u001b[0m\u001b[0;34m\u001b[0m\u001b[0;34m\u001b[0m\u001b[0m\n\u001b[0;32m--> 398\u001b[0;31m         \u001b[0;32mraise\u001b[0m \u001b[0merr\u001b[0m\u001b[0;34m\u001b[0m\u001b[0;34m\u001b[0m\u001b[0m\n\u001b[0m\u001b[1;32m    399\u001b[0m     \u001b[0;32mreturn\u001b[0m \u001b[0mresult\u001b[0m\u001b[0;34m\u001b[0m\u001b[0;34m\u001b[0m\u001b[0m\n\u001b[1;32m    400\u001b[0m \u001b[0;34m\u001b[0m\u001b[0m\n",
      "\u001b[0;31mLSError\u001b[0m: ERROR [function ls_create_solver]: Cannot open file [/opt/localsolver_12_0/license.dat]."
     ]
    }
   ],
   "source": [
    "with localsolver.LocalSolver() as ls:\n",
    "    model = ls.model"
   ]
  },
  {
   "cell_type": "code",
   "execution_count": null,
   "id": "f0328683",
   "metadata": {},
   "outputs": [],
   "source": [
    "def main(instance_file, str_time_limit, sol_file):\n",
    "    #\n",
    "    # Read instance data\n",
    "    #\n",
    "    nb_customers, truck_capacity, dist_matrix_data, dist_depot_data, demands_data = \\\n",
    "        read_input_sdvrp(instance_file)\n",
    "    nb_trucks = nb_customers\n",
    "\n",
    "    with localsolver.LocalSolver() as ls:\n",
    "        #\n",
    "        # Declare the optimization model\n",
    "        #\n",
    "        model = ls.model\n",
    "\n",
    "        # Sequence of customers visited by each truck\n",
    "        customers_sequences = [model.list(nb_customers) for _ in range(nb_trucks)]\n",
    "\n",
    "        # Quantity carried by each truck for each customer\n",
    "        quantity = [None] * nb_trucks\n",
    "        for k in range(nb_trucks):\n",
    "            quantity[k] = [model.float(0, demands_data[i]) for i in range(nb_customers)]\n",
    "\n",
    "        # All customers must be visited at least by one truck\n",
    "        model.constraint(model.cover(customers_sequences))\n",
    "\n",
    "        # Create LocalSolver arrays to be able to access them with \"at\" operators\n",
    "        dist_matrix = model.array(dist_matrix_data)\n",
    "        dist_depot = model.array(dist_depot_data)\n",
    "\n",
    "        route_distances = [None] * nb_trucks\n",
    "        trucks_used = [None] * nb_trucks\n",
    "\n",
    "        for k in range(nb_trucks):\n",
    "            sequence = customers_sequences[k]\n",
    "            c = model.count(sequence)\n",
    "\n",
    "            # A truck is used if it visits at least one customer\n",
    "            trucks_used[k] = model.count(sequence) > 0\n",
    "\n",
    "            # The quantity carried in each route must not exceed the truck capacity\n",
    "            quantity_array = model.array(quantity[k])\n",
    "            quantity_lambda = model.lambda_function(lambda j: quantity_array[j])\n",
    "            route_quantity = model.sum(sequence, quantity_lambda)\n",
    "            model.constraint(route_quantity <= truck_capacity)\n",
    "\n",
    "            # Distance traveled by each truck\n",
    "            dist_lambda = model.lambda_function(\n",
    "                lambda i: model.at(dist_matrix, sequence[i - 1], sequence[i]))\n",
    "            route_distances[k] = model.sum(model.range(1, c), dist_lambda) \\\n",
    "                + model.iif(\n",
    "                    trucks_used[k],\n",
    "                    dist_depot[sequence[0]] + dist_depot[sequence[c - 1]],\n",
    "                    0)\n",
    "\n",
    "        for i in range(nb_customers):\n",
    "            # Each customer must receive at least its demand\n",
    "            quantity_served = model.sum(\n",
    "                quantity[k][i] * model.contains(customers_sequences[k], i)\n",
    "                for k in range(nb_trucks))\n",
    "            model.constraint(quantity_served >= demands_data[i])\n",
    "\n",
    "        total_distance = model.sum(route_distances)\n",
    "\n",
    "        # Objective: minimize the distance traveled\n",
    "        model.minimize(total_distance)\n",
    "\n",
    "        model.close()\n",
    "\n",
    "        # Parameterize the solver\n",
    "        ls.param.time_limit = int(str_time_limit)\n",
    "\n",
    "        ls.solve()\n",
    "\n",
    "        #\n",
    "        # Write the solution in a file with the following format:\n",
    "        # each line k contain the customers visited by the truck k\n",
    "        #\n",
    "        with open(sol_file, 'w') as f:\n",
    "            f.write(\"%d \\n\" % total_distance.value)\n",
    "            for k in range(nb_trucks):\n",
    "                if trucks_used[k].value != 1:\n",
    "                    continue\n",
    "                # Values in sequence are in 0...nbCustomers. +1 is to put it back in 1...nbCustomers+1\n",
    "                for customer in customers_sequences[k].value:\n",
    "                    f.write(\"%d \" % (customer + 1))\n",
    "                f.write(\"\\n\")"
   ]
  },
  {
   "cell_type": "code",
   "execution_count": null,
   "id": "0e185b87",
   "metadata": {},
   "outputs": [],
   "source": []
  },
  {
   "cell_type": "code",
   "execution_count": null,
   "id": "ebd1c55c",
   "metadata": {},
   "outputs": [],
   "source": []
  },
  {
   "cell_type": "code",
   "execution_count": 8,
   "id": "b71824ae",
   "metadata": {},
   "outputs": [
    {
     "ename": "LSError",
     "evalue": "ERROR [function ls_create_solver]: Cannot open file [/opt/localsolver_12_0/license.dat].",
     "output_type": "error",
     "traceback": [
      "\u001b[0;31m---------------------------------------------------------------------------\u001b[0m",
      "\u001b[0;31mLSError\u001b[0m                                   Traceback (most recent call last)",
      "\u001b[0;32m/tmp/ipykernel_965077/2440119090.py\u001b[0m in \u001b[0;36m<module>\u001b[0;34m\u001b[0m\n\u001b[1;32m     57\u001b[0m     \u001b[0mstr_time_limit\u001b[0m \u001b[0;34m=\u001b[0m \u001b[0;34m\"20\"\u001b[0m\u001b[0;34m\u001b[0m\u001b[0;34m\u001b[0m\u001b[0m\n\u001b[1;32m     58\u001b[0m \u001b[0;34m\u001b[0m\u001b[0m\n\u001b[0;32m---> 59\u001b[0;31m     \u001b[0mmain\u001b[0m\u001b[0;34m(\u001b[0m\u001b[0minstance_file\u001b[0m\u001b[0;34m,\u001b[0m \u001b[0mstr_time_limit\u001b[0m\u001b[0;34m,\u001b[0m \u001b[0msol_file\u001b[0m\u001b[0;34m)\u001b[0m\u001b[0;34m\u001b[0m\u001b[0;34m\u001b[0m\u001b[0m\n\u001b[0m",
      "\u001b[0;32m/tmp/ipykernel_965077/3855956484.py\u001b[0m in \u001b[0;36mmain\u001b[0;34m(instance_file, str_time_limit, sol_file)\u001b[0m\n\u001b[1;32m     12\u001b[0m     \u001b[0mnb_trucks\u001b[0m \u001b[0;34m=\u001b[0m \u001b[0mnb_customers\u001b[0m\u001b[0;34m\u001b[0m\u001b[0;34m\u001b[0m\u001b[0m\n\u001b[1;32m     13\u001b[0m \u001b[0;34m\u001b[0m\u001b[0m\n\u001b[0;32m---> 14\u001b[0;31m     \u001b[0;32mwith\u001b[0m \u001b[0mlocalsolver\u001b[0m\u001b[0;34m.\u001b[0m\u001b[0mLocalSolver\u001b[0m\u001b[0;34m(\u001b[0m\u001b[0;34m)\u001b[0m \u001b[0;32mas\u001b[0m \u001b[0mls\u001b[0m\u001b[0;34m:\u001b[0m\u001b[0;34m\u001b[0m\u001b[0;34m\u001b[0m\u001b[0m\n\u001b[0m\u001b[1;32m     15\u001b[0m         \u001b[0;31m#\u001b[0m\u001b[0;34m\u001b[0m\u001b[0;34m\u001b[0m\u001b[0;34m\u001b[0m\u001b[0m\n\u001b[1;32m     16\u001b[0m         \u001b[0;31m# Declare the optimization model\u001b[0m\u001b[0;34m\u001b[0m\u001b[0;34m\u001b[0m\u001b[0;34m\u001b[0m\u001b[0m\n",
      "\u001b[0;32m~/anaconda3/envs/pytorch/lib/python3.7/site-packages/localsolver/__init__.py\u001b[0m in \u001b[0;36m__init__\u001b[0;34m(self, solver_ptr, handle_modeler_ptr, solver_modeler_ptr)\u001b[0m\n\u001b[1;32m   3311\u001b[0m \u001b[0;34m\u001b[0m\u001b[0m\n\u001b[1;32m   3312\u001b[0m         \u001b[0;32mif\u001b[0m \u001b[0msolver_ptr\u001b[0m \u001b[0;32mis\u001b[0m \u001b[0;32mNone\u001b[0m\u001b[0;34m:\u001b[0m\u001b[0;34m\u001b[0m\u001b[0;34m\u001b[0m\u001b[0m\n\u001b[0;32m-> 3313\u001b[0;31m             \u001b[0mself\u001b[0m\u001b[0;34m.\u001b[0m\u001b[0m_solver_ptr\u001b[0m \u001b[0;34m=\u001b[0m \u001b[0m_ls_create_solver\u001b[0m\u001b[0;34m(\u001b[0m\u001b[0;34m)\u001b[0m\u001b[0;34m\u001b[0m\u001b[0;34m\u001b[0m\u001b[0m\n\u001b[0m\u001b[1;32m   3314\u001b[0m         \u001b[0;32melse\u001b[0m\u001b[0;34m:\u001b[0m\u001b[0;34m\u001b[0m\u001b[0;34m\u001b[0m\u001b[0m\n\u001b[1;32m   3315\u001b[0m             \u001b[0mself\u001b[0m\u001b[0;34m.\u001b[0m\u001b[0m_solver_ptr\u001b[0m \u001b[0;34m=\u001b[0m \u001b[0msolver_ptr\u001b[0m\u001b[0;34m\u001b[0m\u001b[0;34m\u001b[0m\u001b[0m\n",
      "\u001b[0;32m~/anaconda3/envs/pytorch/lib/python3.7/site-packages/localsolver/__init__.py\u001b[0m in \u001b[0;36m_ls_check_errors\u001b[0;34m(result, _1, _2)\u001b[0m\n\u001b[1;32m    396\u001b[0m         \u001b[0;31m# false positive (solved with the last versions of pylint)\u001b[0m\u001b[0;34m\u001b[0m\u001b[0;34m\u001b[0m\u001b[0;34m\u001b[0m\u001b[0m\n\u001b[1;32m    397\u001b[0m         \u001b[0;31m#pylint: disable=raising-bad-type\u001b[0m\u001b[0;34m\u001b[0m\u001b[0;34m\u001b[0m\u001b[0;34m\u001b[0m\u001b[0m\n\u001b[0;32m--> 398\u001b[0;31m         \u001b[0;32mraise\u001b[0m \u001b[0merr\u001b[0m\u001b[0;34m\u001b[0m\u001b[0;34m\u001b[0m\u001b[0m\n\u001b[0m\u001b[1;32m    399\u001b[0m     \u001b[0;32mreturn\u001b[0m \u001b[0mresult\u001b[0m\u001b[0;34m\u001b[0m\u001b[0;34m\u001b[0m\u001b[0m\n\u001b[1;32m    400\u001b[0m \u001b[0;34m\u001b[0m\u001b[0m\n",
      "\u001b[0;31mLSError\u001b[0m: ERROR [function ls_create_solver]: Cannot open file [/opt/localsolver_12_0/license.dat]."
     ]
    }
   ],
   "source": [
    "\n",
    "\n",
    "\n",
    "\n",
    "\n",
    "def read_input_sdvrp(filename):\n",
    "    file_it = iter(read_elem(filename))\n",
    "\n",
    "    nb_customers = int(next(file_it))\n",
    "    capacity = int(next(file_it))\n",
    "\n",
    "    demands = [None] * nb_customers\n",
    "    for i in range(nb_customers):\n",
    "        demands[i] = int(next(file_it))\n",
    "\n",
    "    # Extracting the coordinates of the depot and the customers\n",
    "    customers_x = [None] * nb_customers\n",
    "    customers_y = [None] * nb_customers\n",
    "    depot_x = float(next(file_it))\n",
    "    depot_y = float(next(file_it))\n",
    "    for i in range(nb_customers):\n",
    "        customers_x[i] = float(next(file_it))\n",
    "        customers_y[i] = float(next(file_it))\n",
    "\n",
    "    distance_matrix = compute_distance_matrix(customers_x, customers_y)\n",
    "    distance_depots = compute_distance_depots(depot_x, depot_y, customers_x, customers_y)\n",
    "    return nb_customers, capacity, distance_matrix, distance_depots, demands\n",
    "\n",
    "\n",
    "# Compute the distance between two customers\n",
    "def compute_distance_matrix(customers_x, customers_y):\n",
    "    nb_customers = len(customers_x)\n",
    "    distance_matrix = [[None for _ in range(nb_customers)] for _ in range(nb_customers)]\n",
    "    for i in range(nb_customers):\n",
    "        distance_matrix[i][i] = 0\n",
    "        for j in range(nb_customers):\n",
    "            dist = compute_dist(customers_x[i], customers_x[j], customers_y[i], customers_y[j])\n",
    "            distance_matrix[i][j] = dist\n",
    "            distance_matrix[j][i] = dist\n",
    "    return distance_matrix\n",
    "\n",
    "\n",
    "# Compute the distances to depot\n",
    "def compute_distance_depots(depot_x, depot_y, customers_x, customers_y):\n",
    "    nb_customers = len(customers_x)\n",
    "    distance_depots = [None] * nb_customers\n",
    "    for i in range(nb_customers):\n",
    "        dist = compute_dist(depot_x, customers_x[i], depot_y, customers_y[i])\n",
    "        distance_depots[i] = dist\n",
    "    return distance_depots\n",
    "\n",
    "\n",
    "def compute_dist(xi, xj, yi, yj):\n",
    "    exact_dist = math.sqrt(math.pow(xi - xj, 2) + math.pow(yi - yj, 2))\n",
    "    return int(math.floor(exact_dist + 0.5))\n",
    "\n",
    "\n",
    "if __name__ == '__main__':\n",
    "\n",
    "    instance_file = r'./instances/S51D4.sd'\n",
    "    sol_file = r'./result.csv'\n",
    "    str_time_limit = \"20\"\n",
    "\n",
    "    main(instance_file, str_time_limit, sol_file)\n"
   ]
  },
  {
   "cell_type": "code",
   "execution_count": null,
   "id": "0c3052e7",
   "metadata": {},
   "outputs": [],
   "source": []
  },
  {
   "cell_type": "code",
   "execution_count": null,
   "id": "a1b500a7",
   "metadata": {},
   "outputs": [],
   "source": []
  },
  {
   "cell_type": "code",
   "execution_count": null,
   "id": "b22f6a2c",
   "metadata": {},
   "outputs": [],
   "source": []
  }
 ],
 "metadata": {
  "kernelspec": {
   "display_name": "Python 3 (ipykernel)",
   "language": "python",
   "name": "python3"
  },
  "language_info": {
   "codemirror_mode": {
    "name": "ipython",
    "version": 3
   },
   "file_extension": ".py",
   "mimetype": "text/x-python",
   "name": "python",
   "nbconvert_exporter": "python",
   "pygments_lexer": "ipython3",
   "version": "3.7.13"
  }
 },
 "nbformat": 4,
 "nbformat_minor": 5
}
