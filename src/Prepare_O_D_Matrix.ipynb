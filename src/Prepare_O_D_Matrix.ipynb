{
 "cells": [
  {
   "cell_type": "code",
   "execution_count": 16,
   "id": "83df2cc2",
   "metadata": {},
   "outputs": [],
   "source": [
    "import pandas as pd\n",
    "import numpy as np\n",
    "import localsolver\n",
    "import sys\n",
    "import math"
   ]
  },
  {
   "cell_type": "code",
   "execution_count": 17,
   "id": "a60c1fc4",
   "metadata": {},
   "outputs": [],
   "source": [
    "C_C_df = pd.read_csv(r'../Data/C_C.csv')\n",
    "B_C_df = pd.read_csv(r'../Data/B_C.csv')"
   ]
  },
  {
   "cell_type": "code",
   "execution_count": 18,
   "id": "03af038c",
   "metadata": {},
   "outputs": [],
   "source": [
    "C_C_matrix = np.ones((174, 174)) * 10000000\n",
    "B_C_matrix = np.ones((141, 174)) * 10000000"
   ]
  },
  {
   "cell_type": "code",
   "execution_count": 19,
   "id": "f9bc04f8",
   "metadata": {},
   "outputs": [],
   "source": [
    "# c_c_matrix\n",
    "OriginID = C_C_df['OriginID'].values.tolist()\n",
    "DestinID = C_C_df['Destinatio'].values.tolist()\n",
    "Length = C_C_df['Total_Leng'].values.tolist()\n",
    "for i in range(len(OriginID)):\n",
    "    C_C_matrix[OriginID[i]-1][DestinID[i]-1] = Length[i]"
   ]
  },
  {
   "cell_type": "code",
   "execution_count": 20,
   "id": "bccf0403",
   "metadata": {},
   "outputs": [],
   "source": [
    "# b_c_matrix\n",
    "OriginID = B_C_df['OriginID'].values.tolist()\n",
    "DestinID = B_C_df['Destinatio'].values.tolist()\n",
    "Length = B_C_df['Total_Leng'].values.tolist()\n",
    "for i in range(len(OriginID)):\n",
    "    B_C_matrix[OriginID[i]-1][DestinID[i]-1] = Length[i]"
   ]
  },
  {
   "cell_type": "code",
   "execution_count": 27,
   "id": "2a6b99b0",
   "metadata": {},
   "outputs": [],
   "source": [
    "nb_customers = 174\n",
    "truck_capacity = 5\n",
    "dist_matrix_data = C_C_matrix\n",
    "dist_depot_data = B_C_matrix\n",
    "demands_data = np.random.randint(0, 2, nb_customers)\n",
    "nb_trucks = 40\n",
    "str_time_limit = \"20\""
   ]
  },
  {
   "cell_type": "code",
   "execution_count": 35,
   "id": "ce7fe909",
   "metadata": {},
   "outputs": [
    {
     "ename": "LSError",
     "evalue": "ERROR [function ls_close]: Operand 0 of sum#45588 must be boolean, integer, double, collection or interval. Type provided: array.",
     "output_type": "error",
     "traceback": [
      "\u001b[0;31m---------------------------------------------------------------------------\u001b[0m",
      "\u001b[0;31mLSError\u001b[0m                                   Traceback (most recent call last)",
      "\u001b[0;32m/tmp/ipykernel_1002606/4223212952.py\u001b[0m in \u001b[0;36m<module>\u001b[0;34m\u001b[0m\n\u001b[1;32m     41\u001b[0m     \u001b[0mmodel\u001b[0m\u001b[0;34m.\u001b[0m\u001b[0mminimize\u001b[0m\u001b[0;34m(\u001b[0m\u001b[0mtotal_distance\u001b[0m\u001b[0;34m)\u001b[0m\u001b[0;34m\u001b[0m\u001b[0;34m\u001b[0m\u001b[0m\n\u001b[1;32m     42\u001b[0m \u001b[0;31m#     model.close()\u001b[0m\u001b[0;34m\u001b[0m\u001b[0;34m\u001b[0m\u001b[0;34m\u001b[0m\u001b[0m\n\u001b[0;32m---> 43\u001b[0;31m     \u001b[0mmodel\u001b[0m\u001b[0;34m.\u001b[0m\u001b[0mclose\u001b[0m\u001b[0;34m(\u001b[0m\u001b[0;34m)\u001b[0m\u001b[0;34m\u001b[0m\u001b[0;34m\u001b[0m\u001b[0m\n\u001b[0m\u001b[1;32m     44\u001b[0m \u001b[0;34m\u001b[0m\u001b[0m\n\u001b[1;32m     45\u001b[0m     \u001b[0mls\u001b[0m\u001b[0;34m.\u001b[0m\u001b[0mparam\u001b[0m\u001b[0;34m.\u001b[0m\u001b[0mtime_limit\u001b[0m \u001b[0;34m=\u001b[0m \u001b[0mint\u001b[0m\u001b[0;34m(\u001b[0m\u001b[0mstr_time_limit\u001b[0m\u001b[0;34m)\u001b[0m\u001b[0;34m\u001b[0m\u001b[0;34m\u001b[0m\u001b[0m\n",
      "\u001b[0;32m~/anaconda3/envs/pytorch/lib/python3.7/site-packages/localsolver/__init__.py\u001b[0m in \u001b[0;36mclose\u001b[0;34m(self)\u001b[0m\n\u001b[1;32m   2877\u001b[0m     \u001b[0;32mdef\u001b[0m \u001b[0mclose\u001b[0m\u001b[0;34m(\u001b[0m\u001b[0mself\u001b[0m\u001b[0;34m)\u001b[0m\u001b[0;34m:\u001b[0m\u001b[0;34m\u001b[0m\u001b[0;34m\u001b[0m\u001b[0m\n\u001b[1;32m   2878\u001b[0m         \u001b[0m_check_solver\u001b[0m\u001b[0;34m(\u001b[0m\u001b[0mself\u001b[0m\u001b[0;34m.\u001b[0m\u001b[0m_solver\u001b[0m\u001b[0;34m)\u001b[0m\u001b[0;34m\u001b[0m\u001b[0;34m\u001b[0m\u001b[0m\n\u001b[0;32m-> 2879\u001b[0;31m         \u001b[0m_ls_close\u001b[0m\u001b[0;34m(\u001b[0m\u001b[0mself\u001b[0m\u001b[0;34m.\u001b[0m\u001b[0m_solver_ptr\u001b[0m\u001b[0;34m)\u001b[0m\u001b[0;34m\u001b[0m\u001b[0;34m\u001b[0m\u001b[0m\n\u001b[0m\u001b[1;32m   2880\u001b[0m \u001b[0;34m\u001b[0m\u001b[0m\n\u001b[1;32m   2881\u001b[0m     \u001b[0;32mdef\u001b[0m \u001b[0mopen\u001b[0m\u001b[0;34m(\u001b[0m\u001b[0mself\u001b[0m\u001b[0;34m)\u001b[0m\u001b[0;34m:\u001b[0m\u001b[0;34m\u001b[0m\u001b[0;34m\u001b[0m\u001b[0m\n",
      "\u001b[0;32m~/anaconda3/envs/pytorch/lib/python3.7/site-packages/localsolver/__init__.py\u001b[0m in \u001b[0;36m_ls_check_errors\u001b[0;34m(result, _1, _2)\u001b[0m\n\u001b[1;32m    396\u001b[0m         \u001b[0;31m# false positive (solved with the last versions of pylint)\u001b[0m\u001b[0;34m\u001b[0m\u001b[0;34m\u001b[0m\u001b[0;34m\u001b[0m\u001b[0m\n\u001b[1;32m    397\u001b[0m         \u001b[0;31m#pylint: disable=raising-bad-type\u001b[0m\u001b[0;34m\u001b[0m\u001b[0;34m\u001b[0m\u001b[0;34m\u001b[0m\u001b[0m\n\u001b[0;32m--> 398\u001b[0;31m         \u001b[0;32mraise\u001b[0m \u001b[0merr\u001b[0m\u001b[0;34m\u001b[0m\u001b[0;34m\u001b[0m\u001b[0m\n\u001b[0m\u001b[1;32m    399\u001b[0m     \u001b[0;32mreturn\u001b[0m \u001b[0mresult\u001b[0m\u001b[0;34m\u001b[0m\u001b[0;34m\u001b[0m\u001b[0m\n\u001b[1;32m    400\u001b[0m \u001b[0;34m\u001b[0m\u001b[0m\n",
      "\u001b[0;31mLSError\u001b[0m: ERROR [function ls_close]: Operand 0 of sum#45588 must be boolean, integer, double, collection or interval. Type provided: array."
     ]
    }
   ],
   "source": [
    "with localsolver.LocalSolver() as ls:\n",
    "    model = ls.model\n",
    "    customers_sequences = [model.list(nb_customers) for _ in range(nb_trucks)]\n",
    "    \n",
    "    quantity = [None] * nb_trucks\n",
    "    for k in range(nb_trucks):\n",
    "        quantity[k] = [model.float(0, demands_data[i]) for i in range(nb_customers)]\n",
    "        \n",
    "    model.constraint(model.cover(customers_sequences))\n",
    "    \n",
    "    dist_matrix = model.array(dist_matrix_data)\n",
    "    dist_depot = model.array(dist_depot_data)\n",
    "    \n",
    "    route_distances = [None] * nb_trucks\n",
    "    trucks_used = [None] * nb_trucks\n",
    "    \n",
    "    for k in range(nb_trucks):\n",
    "        sequence = customers_sequences[k]\n",
    "        c = model.count(sequence)\n",
    "        \n",
    "        trucks_used[k] = model.count(sequence) > 0\n",
    "        \n",
    "        quantity_array = model.array(quantity[k])\n",
    "        quantity_lambda = model.lambda_function(lambda j: quantity_array[j])\n",
    "        route_quantity = model.sum(sequence, quantity_lambda)\n",
    "        model.constraint(route_quantity <= truck_capacity)\n",
    "        \n",
    "        dist_lambda = model.lambda_function(lambda i: model.at(dist_matrix, sequence[i - 1], sequence[i]))\n",
    "        route_distances[k] = model.sum(model.range(1, c), dist_lambda) + model.iif(\n",
    "                    trucks_used[k],\n",
    "                    dist_depot[sequence[0]] + dist_depot[sequence[c - 1]], 0)\n",
    "        \n",
    "    for i in range(nb_customers):\n",
    "        # Each customer must receive at least its demand\n",
    "        quantity_served = model.sum(quantity[k][i] * model.contains(customers_sequences[k], i)\n",
    "            for k in range(nb_trucks))\n",
    "        model.constraint(quantity_served >= demands_data[i])\n",
    "            \n",
    "    total_distance = model.sum(route_distances)\n",
    "    \n",
    "    model.minimize(total_distance)\n",
    "#     model.close()\n",
    "    model.close()\n",
    "\n",
    "    ls.param.time_limit = int(str_time_limit)\n",
    "    ls.solve()"
   ]
  },
  {
   "cell_type": "code",
   "execution_count": 24,
   "id": "5728d43a",
   "metadata": {},
   "outputs": [
    {
     "data": {
      "text/plain": [
       "<localsolver.LSExpression at 0x7f219cdfd0a0>"
      ]
     },
     "execution_count": 24,
     "metadata": {},
     "output_type": "execute_result"
    }
   ],
   "source": [
    "dist_lambda"
   ]
  },
  {
   "cell_type": "code",
   "execution_count": 33,
   "id": "e367d0a6",
   "metadata": {},
   "outputs": [
    {
     "data": {
      "text/plain": [
       "<localsolver.LSExpression at 0x7f219cde44b0>"
      ]
     },
     "execution_count": 33,
     "metadata": {},
     "output_type": "execute_result"
    }
   ],
   "source": [
    "total_distance"
   ]
  },
  {
   "cell_type": "code",
   "execution_count": 36,
   "id": "da20e822",
   "metadata": {},
   "outputs": [
    {
     "data": {
      "text/plain": [
       "<localsolver.LSExpression at 0x7f2199873410>"
      ]
     },
     "execution_count": 36,
     "metadata": {},
     "output_type": "execute_result"
    }
   ],
   "source": [
    "dist_matrix"
   ]
  },
  {
   "cell_type": "code",
   "execution_count": null,
   "id": "19d6b1b2",
   "metadata": {},
   "outputs": [],
   "source": []
  }
 ],
 "metadata": {
  "kernelspec": {
   "display_name": "Python 3 (ipykernel)",
   "language": "python",
   "name": "python3"
  },
  "language_info": {
   "codemirror_mode": {
    "name": "ipython",
    "version": 3
   },
   "file_extension": ".py",
   "mimetype": "text/x-python",
   "name": "python",
   "nbconvert_exporter": "python",
   "pygments_lexer": "ipython3",
   "version": "3.7.13"
  }
 },
 "nbformat": 4,
 "nbformat_minor": 5
}
