{
 "cells": [
  {
   "cell_type": "code",
   "execution_count": 4,
   "id": "83df2cc2",
   "metadata": {},
   "outputs": [],
   "source": [
    "import pandas as pd\n",
    "import numpy as np"
   ]
  },
  {
   "cell_type": "code",
   "execution_count": 8,
   "id": "a60c1fc4",
   "metadata": {},
   "outputs": [],
   "source": [
    "C_C_df = pd.read_csv(r'../Data/C_C.csv')\n",
    "B_C_df = pd.read_csv(r'../Data/B_C.csv')"
   ]
  },
  {
   "cell_type": "code",
   "execution_count": 17,
   "id": "03af038c",
   "metadata": {},
   "outputs": [],
   "source": [
    "C_C_matrix = np.ones((174, 174)) * 10000000\n",
    "B_C_matrix = np.ones((141, 174)) * 10000000"
   ]
  },
  {
   "cell_type": "code",
   "execution_count": 30,
   "id": "f9bc04f8",
   "metadata": {},
   "outputs": [],
   "source": [
    "# c_c_matrix\n",
    "OriginID = C_C_df['OriginID'].values.tolist()\n",
    "DestinID = C_C_df['Destinatio'].values.tolist()\n",
    "Length = C_C_df['Total_Leng'].values.tolist()\n",
    "for i in range(len(OriginID)):\n",
    "    C_C_matrix[OriginID[i]-1][DestinID[i]-1] = Length[i]"
   ]
  },
  {
   "cell_type": "code",
   "execution_count": 35,
   "id": "bccf0403",
   "metadata": {},
   "outputs": [],
   "source": [
    "# b_c_matrix\n",
    "OriginID = B_C_df['OriginID'].values.tolist()\n",
    "DestinID = B_C_df['Destinatio'].values.tolist()\n",
    "Length = B_C_df['Total_Leng'].values.tolist()\n",
    "for i in range(len(OriginID)):\n",
    "    B_C_matrix[OriginID[i]-1][DestinID[i]-1] = Length[i]"
   ]
  },
  {
   "cell_type": "code",
   "execution_count": 47,
   "id": "2a6b99b0",
   "metadata": {},
   "outputs": [],
   "source": [
    "nb_customers = 174\n",
    "truck_capacity = 5\n",
    "dist_matrix_data = C_C_matrix\n",
    "dist_depot_data = B_C_matrix\n",
    "demands_data = np.random.randint(0, 2, nb_customers)\n",
    "nb_trucks = 40"
   ]
  },
  {
   "cell_type": "code",
   "execution_count": null,
   "id": "ce7fe909",
   "metadata": {},
   "outputs": [],
   "source": [
    "with localsolver.LocalSolver() as ls:\n",
    "    model = ls.model\n",
    "    customers_sequences = [model.list(nb_customers) for _ in range(nb_trucks)]\n",
    "    \n",
    "    quantity = [None] * nb_trucks\n",
    "    for k in range(nb_trucks):\n",
    "        quantity[k] = [model.float(0, demands_data[i]) for i in range(nb_customers)]\n",
    "        \n",
    "    model.constraint(model.cover(customers_sequences))\n",
    "    \n",
    "    dist_matrix = model.array(dist_matrix_data)\n",
    "    dist_depot = model.array(dist_depot_data)\n",
    "    \n",
    "    route_distances = [None] * nb_trucks\n",
    "    trucks_used = [None] * nb_trucks\n",
    "    \n",
    "    for k in range(nb_trucks):\n",
    "        sequence = customers_sequences[k]\n",
    "        c = model.count(sequence)\n",
    "        \n",
    "        trucks_used[k] = model.count(sequence) > 0\n",
    "        \n",
    "        quantity_array = model.array(quantity[k])\n",
    "        quantity_lambda = model.lambda_function(lambda j: quantity_array[j])\n",
    "        route_quantity = model.sum(sequence, quantity_lambda)\n",
    "        model.constraint(route_quantity <= truck_capacity)\n",
    "        \n",
    "        dist_lambda = model.lambda_function(lambda i: model.at(dist_matrix, sequence[i - 1], sequence[i]))\n",
    "        route_distances[k] = model.sum(model.range(1, c), dist_lambda) + model.iif(\n",
    "                    trucks_used[k],\n",
    "                    dist_depot[sequence[0]] + dist_depot[sequence[c - 1]],Python\n",
    "                    0)\n",
    "        \n",
    "        for i in range(nb_customers):\n",
    "            # Each customer must receive at least its demand\n",
    "            quantity_served = model.sum(quantity[k][i] * model.contains(customers_sequences[k], i)\n",
    "                for k in range(nb_trucks))\n",
    "            model.constraint(quantity_served >= demands_data[i])\n",
    "            \n",
    "        total_distance = model.sum(route_distances)\n",
    "        model.minimize(total_distance)\n",
    "        model.close()\n",
    "        \n",
    "        ls.param.time_limit = int(str_time_limit)\n",
    "        ls.solve()"
   ]
  },
  {
   "cell_type": "code",
   "execution_count": null,
   "id": "5728d43a",
   "metadata": {},
   "outputs": [],
   "source": []
  },
  {
   "cell_type": "code",
   "execution_count": null,
   "id": "e367d0a6",
   "metadata": {},
   "outputs": [],
   "source": []
  }
 ],
 "metadata": {
  "kernelspec": {
   "display_name": "Python 3 (ipykernel)",
   "language": "python",
   "name": "python3"
  },
  "language_info": {
   "codemirror_mode": {
    "name": "ipython",
    "version": 3
   },
   "file_extension": ".py",
   "mimetype": "text/x-python",
   "name": "python",
   "nbconvert_exporter": "python",
   "pygments_lexer": "ipython3",
   "version": "3.7.13"
  }
 },
 "nbformat": 4,
 "nbformat_minor": 5
}
