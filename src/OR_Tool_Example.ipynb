{
 "cells": [
  {
   "cell_type": "code",
   "execution_count": 1,
   "id": "91561e03",
   "metadata": {},
   "outputs": [],
   "source": [
    "from ortools.linear_solver import pywraplp"
   ]
  },
  {
   "cell_type": "code",
   "execution_count": 3,
   "id": "1f70fe6c",
   "metadata": {},
   "outputs": [],
   "source": [
    "# Declare the solver\n",
    "solver = pywraplp.Solver.CreateSolver(\"GLOP\")\n",
    "# if not solver:\n",
    "#     return"
   ]
  },
  {
   "cell_type": "code",
   "execution_count": 8,
   "id": "f75e3be9",
   "metadata": {},
   "outputs": [
    {
     "name": "stdout",
     "output_type": "stream",
     "text": [
      "Number of variables =  4\n"
     ]
    }
   ],
   "source": [
    "# Create the variables x and y\n",
    "x = solver.NumVar(0, 1, \"x\")\n",
    "y = solver.NumVar(0, 2, \"y\")\n",
    "print(\"Number of variables = \", solver.NumVariables())"
   ]
  },
  {
   "cell_type": "code",
   "execution_count": 9,
   "id": "bf9f0453",
   "metadata": {},
   "outputs": [
    {
     "name": "stdout",
     "output_type": "stream",
     "text": [
      "Number of constraints =  1\n"
     ]
    }
   ],
   "source": [
    "# Define the constraints\n",
    "ct = solver.Constraint(0, 2, \"ct\")\n",
    "ct.SetCoefficient(x, 1)\n",
    "ct.SetCoefficient(y, 1)\n",
    "\n",
    "print(\"Number of constraints = \", solver.NumConstraints())"
   ]
  },
  {
   "cell_type": "code",
   "execution_count": 10,
   "id": "b010e572",
   "metadata": {},
   "outputs": [],
   "source": [
    "# Define the objective function\n",
    "objective = solver.Objective()\n",
    "objective.SetCoefficient(x, 3)\n",
    "objective.SetCoefficient(y, 1)\n",
    "objective.SetMaximization()"
   ]
  },
  {
   "cell_type": "code",
   "execution_count": 11,
   "id": "b9c1ec60",
   "metadata": {},
   "outputs": [
    {
     "name": "stdout",
     "output_type": "stream",
     "text": [
      "Solution:\n",
      "Objective value =  4.0\n",
      "x =  1.0\n",
      "y =  1.0\n"
     ]
    }
   ],
   "source": [
    "# Invoke the solver and display the results\n",
    "solver.Solve()\n",
    "print(\"Solution:\")\n",
    "print(\"Objective value = \", objective.Value())\n",
    "print(\"x = \", x.solution_value())\n",
    "print(\"y = \", y.solution_value())"
   ]
  },
  {
   "cell_type": "code",
   "execution_count": null,
   "id": "01a6a227",
   "metadata": {},
   "outputs": [],
   "source": []
  }
 ],
 "metadata": {
  "kernelspec": {
   "display_name": "Python 3 (ipykernel)",
   "language": "python",
   "name": "python3"
  },
  "language_info": {
   "codemirror_mode": {
    "name": "ipython",
    "version": 3
   },
   "file_extension": ".py",
   "mimetype": "text/x-python",
   "name": "python",
   "nbconvert_exporter": "python",
   "pygments_lexer": "ipython3",
   "version": "3.7.13"
  }
 },
 "nbformat": 4,
 "nbformat_minor": 5
}
