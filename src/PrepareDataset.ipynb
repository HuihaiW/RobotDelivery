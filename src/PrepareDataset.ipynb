{
 "cells": [
  {
   "cell_type": "code",
   "execution_count": 1,
   "metadata": {},
   "outputs": [],
   "source": [
    "import pandas as pd\n",
    "import numpy as np\n",
    "import os"
   ]
  },
  {
   "cell_type": "code",
   "execution_count": 3,
   "metadata": {},
   "outputs": [],
   "source": [
    "Data_folder = r'../../New/New/Analysis/'"
   ]
  },
  {
   "cell_type": "code",
   "execution_count": 4,
   "metadata": {},
   "outputs": [],
   "source": [
    "OD_folder = os.path.join(Data_folder, \"OD_Matrix\")\n",
    "Base_folder = os.path.join(Data_folder, \"BaseAllocation\")"
   ]
  },
  {
   "cell_type": "code",
   "execution_count": 59,
   "metadata": {},
   "outputs": [],
   "source": [
    "Dictionary_folder = os.path.join(OD_folder, \"ID_Dictionary\")\n",
    "Tract_folder = os.path.join(OD_folder, \"Tract\")\n",
    "Blockgroup_folder = os.path.join(OD_folder, \"BlockGroup\")\n",
    "Base_T_folder = os.path.join(Base_folder, \"T\")\n",
    "Base_BG_folder = os.path.join(Base_folder, \"BG\")"
   ]
  },
  {
   "cell_type": "code",
   "execution_count": 9,
   "metadata": {},
   "outputs": [],
   "source": [
    "newTFolder = r\"../Data/Tract\"\n",
    "newBGFolder = r\"../Data/BG\""
   ]
  },
  {
   "cell_type": "code",
   "execution_count": 28,
   "metadata": {},
   "outputs": [],
   "source": [
    "# Get tract list\n",
    "tractList = []\n",
    "tractListBC = []\n",
    "tractListCC = []\n",
    "T_BC_list = os.listdir(os.path.join(Tract_folder, \"BC\"))\n",
    "T_CC_list = os.listdir(os.path.join(Tract_folder, \"CC\"))\n",
    "for t in T_BC_list:\n",
    "    tractListBC.append(t.split(\"_\")[1].split(\".\")[0])\n",
    "for t in T_CC_list:\n",
    "    tractListCC.append(t.split(\"_\")[1].split(\".\")[0])\n",
    "for ID in tractListBC:\n",
    "    # print(ID)\n",
    "    if ID in tractListCC:\n",
    "        tractList.append(ID)\n",
    "# Get block group list\n",
    "BGList = []\n",
    "BGListBC = []\n",
    "BGListCC = []\n",
    "BG_BC_list = os.listdir(os.path.join(Blockgroup_folder, \"BC\"))\n",
    "BG_CC_list = os.listdir(os.path.join(Blockgroup_folder, \"CC\"))\n",
    "for t in BG_BC_list:\n",
    "    BGListBC.append(t.split(\"_\")[1].split(\".\")[0])\n",
    "for t in BG_CC_list:\n",
    "    BGListCC.append(t.split(\"_\")[1].split(\".\")[0])\n",
    "for ID in BGListBC:\n",
    "    # print(ID)\n",
    "    if ID in BGListCC:\n",
    "        BGList.append(ID)"
   ]
  },
  {
   "cell_type": "code",
   "execution_count": 29,
   "metadata": {},
   "outputs": [],
   "source": [
    "# create folders for tract and blockgroup\n",
    "for name in tractList:\n",
    "    newFolderPath = os.path.join(newTFolder, name)\n",
    "    if not os.path.exists(newFolderPath):\n",
    "        os.mkdir(newFolderPath)\n",
    "for name in BGList:\n",
    "    newFolderPath = os.path.join(newBGFolder, name)\n",
    "    if not os.path.exists(newFolderPath):\n",
    "        os.mkdir(newFolderPath)"
   ]
  },
  {
   "cell_type": "code",
   "execution_count": 43,
   "metadata": {},
   "outputs": [],
   "source": [
    "def getNumpyMatrix(file, custNum, baseNum, matrixType):\n",
    "    df = pd.read_csv(file)\n",
    "    OID = df['OriginID'].values.tolist()\n",
    "    DID = df['DestinationID'].values.tolist()\n",
    "    Length = df[\"Total_Length\"].values.tolist()\n",
    "\n",
    "    if matrixType == \"CC\":\n",
    "        matrix = np.ones((custNum, custNum)) * 1000000000\n",
    "\n",
    "    else:\n",
    "        matrix = np.ones((baseNum, custNum)) * 1000000000\n",
    "\n",
    "    for i in range(len(OID)):\n",
    "        matrix[OID[i]-1][DID[i]-1] = Length[i]\n",
    "    return matrix"
   ]
  },
  {
   "cell_type": "code",
   "execution_count": 58,
   "metadata": {},
   "outputs": [],
   "source": [
    "for t in tractList:\n",
    "    new_tract_folder = os.path.join(newTFolder, t)\n",
    "    bcFile = os.path.join(Tract_folder, \"BC\", \"BCT_\" + t + \".csv\")\n",
    "    ccFile = os.path.join(Tract_folder, \"CC\", \"CCT_\" + t + \".csv\")\n",
    "    baseDic = os.path.join(OD_folder, \"ID_Dictionary\", \"Tract\", t, \"base.csv\")\n",
    "    custDic = os.path.join(OD_folder, \"ID_Dictionary\", \"Tract\", t, \"customer.csv\")\n",
    "\n",
    "    # get dictionary information and save to new place\n",
    "    bDic_df = pd.read_csv(baseDic)\n",
    "    baseNum = bDic_df.shape[0]\n",
    "    bDic_df = bDic_df[['BID']]\n",
    "    bDic_df.to_csv(os.path.join(new_tract_folder, \"baseDic.csv\"))\n",
    "    # break\n",
    "    cDic_df = pd.read_csv(custDic)\n",
    "    custNum = cDic_df.shape[0]\n",
    "    cDic_df = cDic_df[[\"CID\"]]\n",
    "    cDic_df.to_csv(os.path.join(new_tract_folder, \"custDic.csv\"))\n",
    "\n",
    "    # get bc and cc matrix\n",
    "    bcM = getNumpyMatrix(bcFile, custNum, baseNum, \"BC\")\n",
    "    ccM = getNumpyMatrix(ccFile, custNum, baseNum, \"CC\")\n",
    "\n",
    "    np.save(os.path.join(new_tract_folder, \"bcM.npy\"), bcM)\n",
    "    np.save(os.path.join(new_tract_folder, \"ccM.npy\"), ccM)\n",
    "\n",
    "    # get base locations\n",
    "    for i in range(1, 6):\n",
    "        locationInfo = pd.read_csv(os.path.join(Base_T_folder, str(i) + '.csv'))\n",
    "        locationInfo = locationInfo[locationInfo[\"unitID\"] == int(t)]\n",
    "        locationInfo.to_csv(os.path.join(new_tract_folder, \"Base_\" + str(i) + \".csv\"))\n",
    "    \n"
   ]
  },
  {
   "cell_type": "code",
   "execution_count": 61,
   "metadata": {},
   "outputs": [],
   "source": [
    "for BG in BGList:\n",
    "    new_bg_folder = os.path.join(newBGFolder, BG)\n",
    "    bcFile = os.path.join(Blockgroup_folder, \"BC\", \"BCb_\" + t + \".csv\")\n",
    "    ccFile = os.path.join(Blockgroup_folder, \"CC\", \"CCb_\" + t + \".csv\")\n",
    "    baseDic = os.path.join(OD_folder, \"ID_Dictionary\", \"Block\", t, \"base.csv\")\n",
    "    custDic = os.path.join(OD_folder, \"ID_Dictionary\", \"Block\", t, \"customer.csv\")\n",
    "\n",
    "    # get dictionary information and save to new place\n",
    "    bDic_df = pd.read_csv(baseDic)\n",
    "    baseNum = bDic_df.shape[0]\n",
    "    bDic_df = bDic_df[['BID']]\n",
    "    bDic_df.to_csv(os.path.join(new_bg_folder, \"baseDic.csv\"))\n",
    "    # break\n",
    "    cDic_df = pd.read_csv(custDic)\n",
    "    custNum = cDic_df.shape[0]\n",
    "    cDic_df = cDic_df[[\"CID\"]]\n",
    "    cDic_df.to_csv(os.path.join(new_bg_folder, \"custDic.csv\"))\n",
    "\n",
    "    # get bc and cc matrix\n",
    "    bcM = getNumpyMatrix(bcFile, custNum, baseNum, \"BC\")\n",
    "    ccM = getNumpyMatrix(ccFile, custNum, baseNum, \"CC\")\n",
    "\n",
    "    np.save(os.path.join(new_bg_folder, \"bcM.npy\"), bcM)\n",
    "    np.save(os.path.join(new_bg_folder, \"ccM.npy\"), ccM)\n",
    "\n",
    "    # get base locations\n",
    "    for i in range(1, 6):\n",
    "        locationInfo = pd.read_csv(os.path.join(Base_BG_folder, str(i) + '.csv'))\n",
    "        locationInfo = locationInfo[locationInfo[\"unitID\"] == int(t)]\n",
    "        locationInfo.to_csv(os.path.join(new_bg_folder, \"Base_\" + str(i) + \".csv\"))"
   ]
  },
  {
   "cell_type": "code",
   "execution_count": null,
   "metadata": {},
   "outputs": [],
   "source": []
  },
  {
   "cell_type": "code",
   "execution_count": null,
   "metadata": {},
   "outputs": [],
   "source": []
  }
 ],
 "metadata": {
  "kernelspec": {
   "display_name": "robot",
   "language": "python",
   "name": "python3"
  },
  "language_info": {
   "codemirror_mode": {
    "name": "ipython",
    "version": 3
   },
   "file_extension": ".py",
   "mimetype": "text/x-python",
   "name": "python",
   "nbconvert_exporter": "python",
   "pygments_lexer": "ipython3",
   "version": "3.9.18"
  }
 },
 "nbformat": 4,
 "nbformat_minor": 2
}
